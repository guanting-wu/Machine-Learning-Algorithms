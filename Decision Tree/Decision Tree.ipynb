{
 "cells": [
  {
   "cell_type": "code",
   "execution_count": 81,
   "metadata": {},
   "outputs": [],
   "source": [
    "import numpy as np\n",
    "import pandas as pd\n",
    "\n",
    "from pprint import pprint\n",
    "\n",
    "from decision_tree_functions import train_test_split,decision_tree_algorithm, make_predictions, calculate_accuracy"
   ]
  },
  {
   "cell_type": "markdown",
   "metadata": {},
   "source": [
    "# 1. Post-Pruning"
   ]
  },
  {
   "cell_type": "code",
   "execution_count": 82,
   "metadata": {},
   "outputs": [],
   "source": [
    "def filter_df(df, question):\n",
    "    feature, comparison_operator, value = question.split()\n",
    "    \n",
    "    # continuous feature\n",
    "    if comparison_operator == \"<=\":\n",
    "        df_yes = df[df[feature] <= float(value)]\n",
    "        df_no =  df[df[feature] >  float(value)]\n",
    "        \n",
    "    # categorical feature\n",
    "    else:\n",
    "        df_yes = df[df[feature].astype(str) == value]\n",
    "        df_no  = df[df[feature].astype(str) != value]\n",
    "    \n",
    "    return df_yes, df_no"
   ]
  },
  {
   "cell_type": "code",
   "execution_count": 83,
   "metadata": {},
   "outputs": [],
   "source": [
    "def determine_leaf(df_train, ml_task):\n",
    "    \n",
    "    if ml_task == \"regression\":\n",
    "        return df_train.label.mean()\n",
    "    \n",
    "    # classification\n",
    "    else:\n",
    "        return df_train.label.value_counts().index[0]"
   ]
  },
  {
   "cell_type": "code",
   "execution_count": 84,
   "metadata": {},
   "outputs": [],
   "source": [
    "def determine_errors(df_val, tree, ml_task):\n",
    "    predictions = make_predictions(df_val, tree)\n",
    "    actual_values = df_val.label\n",
    "    \n",
    "    if ml_task == \"regression\":\n",
    "        # mean squared error\n",
    "        return ((predictions - actual_values) **2).mean()\n",
    "    else:\n",
    "        # number of errors\n",
    "        return sum(predictions != actual_values)"
   ]
  },
  {
   "cell_type": "code",
   "execution_count": 85,
   "metadata": {},
   "outputs": [],
   "source": [
    "def pruning_result(tree, df_train, df_val, ml_task):\n",
    "    \n",
    "    leaf = determine_leaf(df_train, ml_task)\n",
    "    errors_leaf = determine_errors(df_val, leaf, ml_task)\n",
    "    errors_decision_node = determine_errors(df_val, tree, ml_task)\n",
    "\n",
    "    if errors_leaf <= errors_decision_node:\n",
    "        return leaf\n",
    "    else:\n",
    "        return tree"
   ]
  },
  {
   "cell_type": "code",
   "execution_count": 86,
   "metadata": {},
   "outputs": [],
   "source": [
    "def post_pruning(tree, df_train, df_val, ml_task):\n",
    "    \n",
    "    question = list(tree.keys())[0]\n",
    "    yes_answer, no_answer = tree[question]\n",
    "\n",
    "    # base case\n",
    "    if not isinstance(yes_answer, dict) and not isinstance(no_answer, dict):\n",
    "        return pruning_result(tree, df_train, df_val, ml_task)\n",
    "        \n",
    "    # recursive part\n",
    "    else:\n",
    "        df_train_yes, df_train_no = filter_df(df_train, question)\n",
    "        df_val_yes, df_val_no = filter_df(df_val, question)\n",
    "        \n",
    "        if isinstance(yes_answer, dict):\n",
    "            yes_answer = post_pruning(yes_answer, df_train_yes, df_val_yes, ml_task)\n",
    "            \n",
    "        if isinstance(no_answer, dict):\n",
    "            no_answer = post_pruning(no_answer, df_train_no, df_val_no, ml_task)\n",
    "        \n",
    "        tree = {question: [yes_answer, no_answer]}\n",
    "    \n",
    "        return pruning_result(tree, df_train, df_val, ml_task)"
   ]
  },
  {
   "cell_type": "markdown",
   "metadata": {},
   "source": [
    "# 2.Iris Data Set"
   ]
  },
  {
   "cell_type": "code",
   "execution_count": 87,
   "metadata": {},
   "outputs": [],
   "source": [
    "df = pd.read_csv('iris.csv')\n",
    "df.rename(columns = {'target': 'label', 'sepal length (cm)': 'sl', 'sepal width (cm)': 'sw', 'petal length (cm)': 'pl', 'petal width (cm)': 'pw'}, inplace = True)"
   ]
  },
  {
   "cell_type": "code",
   "execution_count": 88,
   "metadata": {},
   "outputs": [
    {
     "data": {
      "text/html": [
       "<div>\n",
       "<style scoped>\n",
       "    .dataframe tbody tr th:only-of-type {\n",
       "        vertical-align: middle;\n",
       "    }\n",
       "\n",
       "    .dataframe tbody tr th {\n",
       "        vertical-align: top;\n",
       "    }\n",
       "\n",
       "    .dataframe thead th {\n",
       "        text-align: right;\n",
       "    }\n",
       "</style>\n",
       "<table border=\"1\" class=\"dataframe\">\n",
       "  <thead>\n",
       "    <tr style=\"text-align: right;\">\n",
       "      <th></th>\n",
       "      <th>sl</th>\n",
       "      <th>sw</th>\n",
       "      <th>pl</th>\n",
       "      <th>pw</th>\n",
       "      <th>label</th>\n",
       "    </tr>\n",
       "  </thead>\n",
       "  <tbody>\n",
       "    <tr>\n",
       "      <th>0</th>\n",
       "      <td>5.1</td>\n",
       "      <td>3.5</td>\n",
       "      <td>1.4</td>\n",
       "      <td>0.2</td>\n",
       "      <td>0</td>\n",
       "    </tr>\n",
       "    <tr>\n",
       "      <th>1</th>\n",
       "      <td>4.9</td>\n",
       "      <td>3.0</td>\n",
       "      <td>1.4</td>\n",
       "      <td>0.2</td>\n",
       "      <td>0</td>\n",
       "    </tr>\n",
       "    <tr>\n",
       "      <th>2</th>\n",
       "      <td>4.7</td>\n",
       "      <td>3.2</td>\n",
       "      <td>1.3</td>\n",
       "      <td>0.2</td>\n",
       "      <td>0</td>\n",
       "    </tr>\n",
       "    <tr>\n",
       "      <th>3</th>\n",
       "      <td>4.6</td>\n",
       "      <td>3.1</td>\n",
       "      <td>1.5</td>\n",
       "      <td>0.2</td>\n",
       "      <td>0</td>\n",
       "    </tr>\n",
       "    <tr>\n",
       "      <th>4</th>\n",
       "      <td>5.0</td>\n",
       "      <td>3.6</td>\n",
       "      <td>1.4</td>\n",
       "      <td>0.2</td>\n",
       "      <td>0</td>\n",
       "    </tr>\n",
       "    <tr>\n",
       "      <th>...</th>\n",
       "      <td>...</td>\n",
       "      <td>...</td>\n",
       "      <td>...</td>\n",
       "      <td>...</td>\n",
       "      <td>...</td>\n",
       "    </tr>\n",
       "    <tr>\n",
       "      <th>145</th>\n",
       "      <td>6.7</td>\n",
       "      <td>3.0</td>\n",
       "      <td>5.2</td>\n",
       "      <td>2.3</td>\n",
       "      <td>2</td>\n",
       "    </tr>\n",
       "    <tr>\n",
       "      <th>146</th>\n",
       "      <td>6.3</td>\n",
       "      <td>2.5</td>\n",
       "      <td>5.0</td>\n",
       "      <td>1.9</td>\n",
       "      <td>2</td>\n",
       "    </tr>\n",
       "    <tr>\n",
       "      <th>147</th>\n",
       "      <td>6.5</td>\n",
       "      <td>3.0</td>\n",
       "      <td>5.2</td>\n",
       "      <td>2.0</td>\n",
       "      <td>2</td>\n",
       "    </tr>\n",
       "    <tr>\n",
       "      <th>148</th>\n",
       "      <td>6.2</td>\n",
       "      <td>3.4</td>\n",
       "      <td>5.4</td>\n",
       "      <td>2.3</td>\n",
       "      <td>2</td>\n",
       "    </tr>\n",
       "    <tr>\n",
       "      <th>149</th>\n",
       "      <td>5.9</td>\n",
       "      <td>3.0</td>\n",
       "      <td>5.1</td>\n",
       "      <td>1.8</td>\n",
       "      <td>2</td>\n",
       "    </tr>\n",
       "  </tbody>\n",
       "</table>\n",
       "<p>150 rows × 5 columns</p>\n",
       "</div>"
      ],
      "text/plain": [
       "      sl   sw   pl   pw  label\n",
       "0    5.1  3.5  1.4  0.2      0\n",
       "1    4.9  3.0  1.4  0.2      0\n",
       "2    4.7  3.2  1.3  0.2      0\n",
       "3    4.6  3.1  1.5  0.2      0\n",
       "4    5.0  3.6  1.4  0.2      0\n",
       "..   ...  ...  ...  ...    ...\n",
       "145  6.7  3.0  5.2  2.3      2\n",
       "146  6.3  2.5  5.0  1.9      2\n",
       "147  6.5  3.0  5.2  2.0      2\n",
       "148  6.2  3.4  5.4  2.3      2\n",
       "149  5.9  3.0  5.1  1.8      2\n",
       "\n",
       "[150 rows x 5 columns]"
      ]
     },
     "execution_count": 88,
     "metadata": {},
     "output_type": "execute_result"
    }
   ],
   "source": [
    "df"
   ]
  },
  {
   "cell_type": "code",
   "execution_count": 89,
   "metadata": {},
   "outputs": [],
   "source": [
    "metrics = {\"max_depth\": [], \"acc_tree\": [], \"acc_tree_pruned\": []}\n",
    "for n in range(10, 26):\n",
    "    df_train, df_test = train_test_split(df, test_size=0.15)\n",
    "    df_train, df_val = train_test_split(df_train, test_size=0.15)\n",
    "\n",
    "    tree = decision_tree_algorithm(df_train, ml_task=\"classification\", max_depth=n)\n",
    "    tree_pruned = post_pruning(tree, df_train, df_val, ml_task=\"classification\")\n",
    "    \n",
    "    metrics[\"max_depth\"].append(n)\n",
    "    metrics[\"acc_tree\"].append(calculate_accuracy(df_test, tree))\n",
    "    metrics[\"acc_tree_pruned\"].append(calculate_accuracy(df_test, tree_pruned))\n",
    "    \n",
    "df_metrics = pd.DataFrame(metrics)\n",
    "df_metrics = df_metrics.set_index(\"max_depth\")"
   ]
  },
  {
   "cell_type": "code",
   "execution_count": 90,
   "metadata": {},
   "outputs": [
    {
     "data": {
      "text/plain": [
       "<matplotlib.axes._subplots.AxesSubplot at 0x25a77c64ec8>"
      ]
     },
     "execution_count": 90,
     "metadata": {},
     "output_type": "execute_result"
    },
    {
     "data": {
      "image/png": "[encoded data removed]",
      "text/plain": [
       "<Figure size 864x360 with 1 Axes>"
      ]
     },
     "metadata": {
      "needs_background": "light"
     },
     "output_type": "display_data"
    }
   ],
   "source": [
    "df_metrics.plot(figsize=(12, 5), marker=\"o\")"
   ]
  }
 ],
 "metadata": {
  "kernelspec": {
   "display_name": "Python 3",
   "language": "python",
   "name": "python3"
  },
  "language_info": {
   "codemirror_mode": {
    "name": "ipython",
    "version": 3
   },
   "file_extension": ".py",
   "mimetype": "text/x-python",
   "name": "python",
   "nbconvert_exporter": "python",
   "pygments_lexer": "ipython3",
   "version": "3.7.6"
  }
 },
 "nbformat": 4,
 "nbformat_minor": 4
}
